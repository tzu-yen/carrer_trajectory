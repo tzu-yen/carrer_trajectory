{
 "cells": [
  {
   "cell_type": "code",
   "execution_count": 1,
   "metadata": {
    "collapsed": true
   },
   "outputs": [],
   "source": [
    "import pandas as pd\n",
    "import re"
   ]
  },
  {
   "cell_type": "code",
   "execution_count": 2,
   "metadata": {
    "collapsed": false
   },
   "outputs": [
    {
     "name": "stdout",
     "output_type": "stream",
     "text": [
      "(126073, 3)\n",
      "                       degree    count\n",
      "0                          BS  94317.0\n",
      "1                          BA  84842.0\n",
      "2     Bachelor of Arts (B.A.)  77008.0\n",
      "3  Bachelor of Science (B.S.)  69426.0\n",
      "4    Bachelor of Science (BS)  66456.0\n"
     ]
    }
   ],
   "source": [
    "df = pd.read_csv(\"../data/degree.csv\")\n",
    "print df.shape\n",
    "df.drop(df.columns[-1], axis=1, inplace=True)\n",
    "print df.head()"
   ]
  },
  {
   "cell_type": "code",
   "execution_count": 3,
   "metadata": {
    "collapsed": false
   },
   "outputs": [],
   "source": [
    "def is_complex_row(x):\n",
    "    if isinstance(x, str) and x.count('(') == x.count(')') == 1 and x[-1] == ')':\n",
    "        return True\n",
    "    return False"
   ]
  },
  {
   "cell_type": "code",
   "execution_count": 4,
   "metadata": {
    "collapsed": false
   },
   "outputs": [
    {
     "data": {
      "text/plain": [
       "0    False\n",
       "1    False\n",
       "2     True\n",
       "3     True\n",
       "4     True\n",
       "Name: degree, dtype: bool"
      ]
     },
     "execution_count": 4,
     "metadata": {},
     "output_type": "execute_result"
    }
   ],
   "source": [
    "is_complex = df['degree'].apply(is_complex_row)\n",
    "is_complex.head()"
   ]
  },
  {
   "cell_type": "code",
   "execution_count": 5,
   "metadata": {
    "collapsed": false
   },
   "outputs": [
    {
     "data": {
      "text/html": [
       "<div>\n",
       "<table border=\"1\" class=\"dataframe\">\n",
       "  <thead>\n",
       "    <tr style=\"text-align: right;\">\n",
       "      <th></th>\n",
       "      <th>degree</th>\n",
       "      <th>count</th>\n",
       "    </tr>\n",
       "  </thead>\n",
       "  <tbody>\n",
       "    <tr>\n",
       "      <th>2</th>\n",
       "      <td>Bachelor of Arts (B.A.)</td>\n",
       "      <td>77008.0</td>\n",
       "    </tr>\n",
       "    <tr>\n",
       "      <th>3</th>\n",
       "      <td>Bachelor of Science (B.S.)</td>\n",
       "      <td>69426.0</td>\n",
       "    </tr>\n",
       "    <tr>\n",
       "      <th>4</th>\n",
       "      <td>Bachelor of Science (BS)</td>\n",
       "      <td>66456.0</td>\n",
       "    </tr>\n",
       "    <tr>\n",
       "      <th>12</th>\n",
       "      <td>Bachelor of Arts (BA)</td>\n",
       "      <td>28212.0</td>\n",
       "    </tr>\n",
       "    <tr>\n",
       "      <th>15</th>\n",
       "      <td>Bachelor of Business Administration (B.B.A.)</td>\n",
       "      <td>19819.0</td>\n",
       "    </tr>\n",
       "  </tbody>\n",
       "</table>\n",
       "</div>"
      ],
      "text/plain": [
       "                                          degree    count\n",
       "2                        Bachelor of Arts (B.A.)  77008.0\n",
       "3                     Bachelor of Science (B.S.)  69426.0\n",
       "4                       Bachelor of Science (BS)  66456.0\n",
       "12                         Bachelor of Arts (BA)  28212.0\n",
       "15  Bachelor of Business Administration (B.B.A.)  19819.0"
      ]
     },
     "execution_count": 5,
     "metadata": {},
     "output_type": "execute_result"
    }
   ],
   "source": [
    "df_complex = df[is_complex]\n",
    "df_complex.head()"
   ]
  },
  {
   "cell_type": "code",
   "execution_count": 6,
   "metadata": {
    "collapsed": false
   },
   "outputs": [
    {
     "name": "stderr",
     "output_type": "stream",
     "text": [
      "C:\\Python27\\lib\\site-packages\\pandas\\core\\indexing.py:477: SettingWithCopyWarning: \n",
      "A value is trying to be set on a copy of a slice from a DataFrame.\n",
      "Try using .loc[row_indexer,col_indexer] = value instead\n",
      "\n",
      "See the caveats in the documentation: http://pandas.pydata.org/pandas-docs/stable/indexing.html#indexing-view-versus-copy\n",
      "  self.obj[item] = s\n"
     ]
    }
   ],
   "source": [
    "df_complex.loc[:, 'degree'] = df_complex.loc[:, 'degree'].apply(lambda x: re.sub(r\"\\.\", '', x))\n",
    "df_complex.loc[:, 'degree'] = df_complex.loc[:, 'degree'].apply(lambda x: re.sub(u\"’\", '', x))"
   ]
  },
  {
   "cell_type": "code",
   "execution_count": 7,
   "metadata": {
    "collapsed": false
   },
   "outputs": [
    {
     "data": {
      "text/html": [
       "<div>\n",
       "<table border=\"1\" class=\"dataframe\">\n",
       "  <thead>\n",
       "    <tr style=\"text-align: right;\">\n",
       "      <th></th>\n",
       "      <th>degree</th>\n",
       "      <th>count</th>\n",
       "    </tr>\n",
       "  </thead>\n",
       "  <tbody>\n",
       "    <tr>\n",
       "      <th>2</th>\n",
       "      <td>Bachelor of Arts (BA)</td>\n",
       "      <td>77008.0</td>\n",
       "    </tr>\n",
       "    <tr>\n",
       "      <th>3</th>\n",
       "      <td>Bachelor of Science (BS)</td>\n",
       "      <td>69426.0</td>\n",
       "    </tr>\n",
       "    <tr>\n",
       "      <th>4</th>\n",
       "      <td>Bachelor of Science (BS)</td>\n",
       "      <td>66456.0</td>\n",
       "    </tr>\n",
       "    <tr>\n",
       "      <th>12</th>\n",
       "      <td>Bachelor of Arts (BA)</td>\n",
       "      <td>28212.0</td>\n",
       "    </tr>\n",
       "    <tr>\n",
       "      <th>15</th>\n",
       "      <td>Bachelor of Business Administration (BBA)</td>\n",
       "      <td>19819.0</td>\n",
       "    </tr>\n",
       "    <tr>\n",
       "      <th>19</th>\n",
       "      <td>Bachelor of Business Administration (BBA)</td>\n",
       "      <td>17468.0</td>\n",
       "    </tr>\n",
       "    <tr>\n",
       "      <th>21</th>\n",
       "      <td>Master of Business Administration (MBA)</td>\n",
       "      <td>17319.0</td>\n",
       "    </tr>\n",
       "    <tr>\n",
       "      <th>24</th>\n",
       "      <td>Master of Business Administration (MBA)</td>\n",
       "      <td>13929.0</td>\n",
       "    </tr>\n",
       "    <tr>\n",
       "      <th>26</th>\n",
       "      <td>Master of Science (MS)</td>\n",
       "      <td>13539.0</td>\n",
       "    </tr>\n",
       "    <tr>\n",
       "      <th>27</th>\n",
       "      <td>Master of Science (MS)</td>\n",
       "      <td>13196.0</td>\n",
       "    </tr>\n",
       "    <tr>\n",
       "      <th>30</th>\n",
       "      <td>Master of Arts (MA)</td>\n",
       "      <td>10187.0</td>\n",
       "    </tr>\n",
       "    <tr>\n",
       "      <th>33</th>\n",
       "      <td>Associate of Science (AS)</td>\n",
       "      <td>9335.0</td>\n",
       "    </tr>\n",
       "    <tr>\n",
       "      <th>34</th>\n",
       "      <td>Doctor of Philosophy (PhD)</td>\n",
       "      <td>9122.0</td>\n",
       "    </tr>\n",
       "    <tr>\n",
       "      <th>37</th>\n",
       "      <td>Associate of Arts (AA)</td>\n",
       "      <td>8430.0</td>\n",
       "    </tr>\n",
       "    <tr>\n",
       "      <th>41</th>\n",
       "      <td>Bachelor of Applied Science (BASc)</td>\n",
       "      <td>7630.0</td>\n",
       "    </tr>\n",
       "    <tr>\n",
       "      <th>51</th>\n",
       "      <td>Associate of Arts (AA)</td>\n",
       "      <td>5985.0</td>\n",
       "    </tr>\n",
       "    <tr>\n",
       "      <th>52</th>\n",
       "      <td>Doctor of Philosophy (PhD)</td>\n",
       "      <td>5748.0</td>\n",
       "    </tr>\n",
       "    <tr>\n",
       "      <th>55</th>\n",
       "      <td>Bachelor of Fine Arts (BFA)</td>\n",
       "      <td>5177.0</td>\n",
       "    </tr>\n",
       "    <tr>\n",
       "      <th>64</th>\n",
       "      <td>Master of Arts (MA)</td>\n",
       "      <td>3927.0</td>\n",
       "    </tr>\n",
       "    <tr>\n",
       "      <th>65</th>\n",
       "      <td>Associate of Arts and Sciences (AAS)</td>\n",
       "      <td>3880.0</td>\n",
       "    </tr>\n",
       "  </tbody>\n",
       "</table>\n",
       "</div>"
      ],
      "text/plain": [
       "                                       degree    count\n",
       "2                       Bachelor of Arts (BA)  77008.0\n",
       "3                    Bachelor of Science (BS)  69426.0\n",
       "4                    Bachelor of Science (BS)  66456.0\n",
       "12                      Bachelor of Arts (BA)  28212.0\n",
       "15  Bachelor of Business Administration (BBA)  19819.0\n",
       "19  Bachelor of Business Administration (BBA)  17468.0\n",
       "21    Master of Business Administration (MBA)  17319.0\n",
       "24    Master of Business Administration (MBA)  13929.0\n",
       "26                     Master of Science (MS)  13539.0\n",
       "27                     Master of Science (MS)  13196.0\n",
       "30                        Master of Arts (MA)  10187.0\n",
       "33                  Associate of Science (AS)   9335.0\n",
       "34                 Doctor of Philosophy (PhD)   9122.0\n",
       "37                     Associate of Arts (AA)   8430.0\n",
       "41         Bachelor of Applied Science (BASc)   7630.0\n",
       "51                     Associate of Arts (AA)   5985.0\n",
       "52                 Doctor of Philosophy (PhD)   5748.0\n",
       "55                Bachelor of Fine Arts (BFA)   5177.0\n",
       "64                        Master of Arts (MA)   3927.0\n",
       "65       Associate of Arts and Sciences (AAS)   3880.0"
      ]
     },
     "execution_count": 7,
     "metadata": {},
     "output_type": "execute_result"
    }
   ],
   "source": [
    "df_complex.head(20)"
   ]
  },
  {
   "cell_type": "code",
   "execution_count": 8,
   "metadata": {
    "collapsed": false
   },
   "outputs": [],
   "source": [
    "df_complex = df_complex.groupby('degree').sum().sort_values('count', ascending=False).reset_index()"
   ]
  },
  {
   "cell_type": "code",
   "execution_count": 9,
   "metadata": {
    "collapsed": false
   },
   "outputs": [
    {
     "name": "stdout",
     "output_type": "stream",
     "text": [
      "                                      degree     count\n",
      "0                   Bachelor of Science (BS)  135960.0\n",
      "1                      Bachelor of Arts (BA)  105264.0\n",
      "2  Bachelor of Business Administration (BBA)   37313.0\n",
      "3    Master of Business Administration (MBA)   31258.0\n",
      "4                     Master of Science (MS)   26754.0\n",
      "(8621, 2)\n"
     ]
    }
   ],
   "source": [
    "print df_complex.head()\n",
    "print df_complex.shape"
   ]
  },
  {
   "cell_type": "code",
   "execution_count": 10,
   "metadata": {
    "collapsed": false
   },
   "outputs": [],
   "source": [
    "df_complex['degree_lower'] = df_complex['degree'].str.lower()"
   ]
  },
  {
   "cell_type": "code",
   "execution_count": 11,
   "metadata": {
    "collapsed": false
   },
   "outputs": [
    {
     "data": {
      "text/html": [
       "<div>\n",
       "<table border=\"1\" class=\"dataframe\">\n",
       "  <thead>\n",
       "    <tr style=\"text-align: right;\">\n",
       "      <th></th>\n",
       "      <th>degree</th>\n",
       "      <th>count</th>\n",
       "      <th>degree_lower</th>\n",
       "    </tr>\n",
       "  </thead>\n",
       "  <tbody>\n",
       "    <tr>\n",
       "      <th>0</th>\n",
       "      <td>Bachelor of Science (BS)</td>\n",
       "      <td>135960.0</td>\n",
       "      <td>bachelor of science (bs)</td>\n",
       "    </tr>\n",
       "    <tr>\n",
       "      <th>1</th>\n",
       "      <td>Bachelor of Arts (BA)</td>\n",
       "      <td>105264.0</td>\n",
       "      <td>bachelor of arts (ba)</td>\n",
       "    </tr>\n",
       "    <tr>\n",
       "      <th>2</th>\n",
       "      <td>Bachelor of Business Administration (BBA)</td>\n",
       "      <td>37313.0</td>\n",
       "      <td>bachelor of business administration (bba)</td>\n",
       "    </tr>\n",
       "    <tr>\n",
       "      <th>3</th>\n",
       "      <td>Master of Business Administration (MBA)</td>\n",
       "      <td>31258.0</td>\n",
       "      <td>master of business administration (mba)</td>\n",
       "    </tr>\n",
       "    <tr>\n",
       "      <th>4</th>\n",
       "      <td>Master of Science (MS)</td>\n",
       "      <td>26754.0</td>\n",
       "      <td>master of science (ms)</td>\n",
       "    </tr>\n",
       "    <tr>\n",
       "      <th>5</th>\n",
       "      <td>Doctor of Philosophy (PhD)</td>\n",
       "      <td>14888.0</td>\n",
       "      <td>doctor of philosophy (phd)</td>\n",
       "    </tr>\n",
       "    <tr>\n",
       "      <th>6</th>\n",
       "      <td>Associate of Arts (AA)</td>\n",
       "      <td>14419.0</td>\n",
       "      <td>associate of arts (aa)</td>\n",
       "    </tr>\n",
       "    <tr>\n",
       "      <th>7</th>\n",
       "      <td>Master of Arts (MA)</td>\n",
       "      <td>14122.0</td>\n",
       "      <td>master of arts (ma)</td>\n",
       "    </tr>\n",
       "    <tr>\n",
       "      <th>8</th>\n",
       "      <td>Associate of Science (AS)</td>\n",
       "      <td>13122.0</td>\n",
       "      <td>associate of science (as)</td>\n",
       "    </tr>\n",
       "    <tr>\n",
       "      <th>9</th>\n",
       "      <td>Bachelor of Applied Science (BASc)</td>\n",
       "      <td>11375.0</td>\n",
       "      <td>bachelor of applied science (basc)</td>\n",
       "    </tr>\n",
       "  </tbody>\n",
       "</table>\n",
       "</div>"
      ],
      "text/plain": [
       "                                      degree     count  \\\n",
       "0                   Bachelor of Science (BS)  135960.0   \n",
       "1                      Bachelor of Arts (BA)  105264.0   \n",
       "2  Bachelor of Business Administration (BBA)   37313.0   \n",
       "3    Master of Business Administration (MBA)   31258.0   \n",
       "4                     Master of Science (MS)   26754.0   \n",
       "5                 Doctor of Philosophy (PhD)   14888.0   \n",
       "6                     Associate of Arts (AA)   14419.0   \n",
       "7                        Master of Arts (MA)   14122.0   \n",
       "8                  Associate of Science (AS)   13122.0   \n",
       "9         Bachelor of Applied Science (BASc)   11375.0   \n",
       "\n",
       "                                degree_lower  \n",
       "0                   bachelor of science (bs)  \n",
       "1                      bachelor of arts (ba)  \n",
       "2  bachelor of business administration (bba)  \n",
       "3    master of business administration (mba)  \n",
       "4                     master of science (ms)  \n",
       "5                 doctor of philosophy (phd)  \n",
       "6                     associate of arts (aa)  \n",
       "7                        master of arts (ma)  \n",
       "8                  associate of science (as)  \n",
       "9         bachelor of applied science (basc)  "
      ]
     },
     "execution_count": 11,
     "metadata": {},
     "output_type": "execute_result"
    }
   ],
   "source": [
    "df_complex.head(10)"
   ]
  },
  {
   "cell_type": "code",
   "execution_count": 12,
   "metadata": {
    "collapsed": false
   },
   "outputs": [],
   "source": [
    "df_complex_lower = df_complex.groupby('degree_lower').sum().sort_values('count', ascending=False).reset_index()"
   ]
  },
  {
   "cell_type": "code",
   "execution_count": 13,
   "metadata": {
    "collapsed": false
   },
   "outputs": [],
   "source": [
    "df_detail = pd.merge(df_complex, df_complex_lower, on='degree_lower', suffixes=('_degree', '_degree_lower'))"
   ]
  },
  {
   "cell_type": "code",
   "execution_count": 14,
   "metadata": {
    "collapsed": false
   },
   "outputs": [
    {
     "data": {
      "text/html": [
       "<div>\n",
       "<table border=\"1\" class=\"dataframe\">\n",
       "  <thead>\n",
       "    <tr style=\"text-align: right;\">\n",
       "      <th></th>\n",
       "      <th>degree</th>\n",
       "      <th>count_degree</th>\n",
       "      <th>degree_lower</th>\n",
       "      <th>count_degree_lower</th>\n",
       "    </tr>\n",
       "  </thead>\n",
       "  <tbody>\n",
       "    <tr>\n",
       "      <th>0</th>\n",
       "      <td>Bachelor of Science (BS)</td>\n",
       "      <td>135960.0</td>\n",
       "      <td>bachelor of science (bs)</td>\n",
       "      <td>135970.0</td>\n",
       "    </tr>\n",
       "    <tr>\n",
       "      <th>1</th>\n",
       "      <td>Bachelor Of Science (BS)</td>\n",
       "      <td>4.0</td>\n",
       "      <td>bachelor of science (bs)</td>\n",
       "      <td>135970.0</td>\n",
       "    </tr>\n",
       "    <tr>\n",
       "      <th>2</th>\n",
       "      <td>BACHELOR OF SCIENCE (BS)</td>\n",
       "      <td>2.0</td>\n",
       "      <td>bachelor of science (bs)</td>\n",
       "      <td>135970.0</td>\n",
       "    </tr>\n",
       "    <tr>\n",
       "      <th>3</th>\n",
       "      <td>bachelor of science (bs)</td>\n",
       "      <td>1.0</td>\n",
       "      <td>bachelor of science (bs)</td>\n",
       "      <td>135970.0</td>\n",
       "    </tr>\n",
       "    <tr>\n",
       "      <th>4</th>\n",
       "      <td>bachelor of science (BS)</td>\n",
       "      <td>1.0</td>\n",
       "      <td>bachelor of science (bs)</td>\n",
       "      <td>135970.0</td>\n",
       "    </tr>\n",
       "  </tbody>\n",
       "</table>\n",
       "</div>"
      ],
      "text/plain": [
       "                     degree  count_degree              degree_lower  \\\n",
       "0  Bachelor of Science (BS)      135960.0  bachelor of science (bs)   \n",
       "1  Bachelor Of Science (BS)           4.0  bachelor of science (bs)   \n",
       "2  BACHELOR OF SCIENCE (BS)           2.0  bachelor of science (bs)   \n",
       "3  bachelor of science (bs)           1.0  bachelor of science (bs)   \n",
       "4  bachelor of science (BS)           1.0  bachelor of science (bs)   \n",
       "\n",
       "   count_degree_lower  \n",
       "0            135970.0  \n",
       "1            135970.0  \n",
       "2            135970.0  \n",
       "3            135970.0  \n",
       "4            135970.0  "
      ]
     },
     "execution_count": 14,
     "metadata": {},
     "output_type": "execute_result"
    }
   ],
   "source": [
    "df_detail.head()"
   ]
  },
  {
   "cell_type": "code",
   "execution_count": 15,
   "metadata": {
    "collapsed": false
   },
   "outputs": [],
   "source": [
    "def split_deg_compex(x):\n",
    "    split_idx = x.index('(')\n",
    "    return pd.Series([x[:split_idx].strip(), x[split_idx+1:-1].strip()], index=['degree_name', 'degree_acronym'])"
   ]
  },
  {
   "cell_type": "code",
   "execution_count": 16,
   "metadata": {
    "collapsed": false
   },
   "outputs": [],
   "source": [
    "df_split = df_detail['degree'].apply(split_deg_compex)"
   ]
  },
  {
   "cell_type": "code",
   "execution_count": 17,
   "metadata": {
    "collapsed": false
   },
   "outputs": [
    {
     "data": {
      "text/html": [
       "<div>\n",
       "<table border=\"1\" class=\"dataframe\">\n",
       "  <thead>\n",
       "    <tr style=\"text-align: right;\">\n",
       "      <th></th>\n",
       "      <th>degree_name</th>\n",
       "      <th>degree_acronym</th>\n",
       "    </tr>\n",
       "  </thead>\n",
       "  <tbody>\n",
       "    <tr>\n",
       "      <th>0</th>\n",
       "      <td>Bachelor of Science</td>\n",
       "      <td>BS</td>\n",
       "    </tr>\n",
       "    <tr>\n",
       "      <th>1</th>\n",
       "      <td>Bachelor Of Science</td>\n",
       "      <td>BS</td>\n",
       "    </tr>\n",
       "    <tr>\n",
       "      <th>2</th>\n",
       "      <td>BACHELOR OF SCIENCE</td>\n",
       "      <td>BS</td>\n",
       "    </tr>\n",
       "    <tr>\n",
       "      <th>3</th>\n",
       "      <td>bachelor of science</td>\n",
       "      <td>bs</td>\n",
       "    </tr>\n",
       "    <tr>\n",
       "      <th>4</th>\n",
       "      <td>bachelor of science</td>\n",
       "      <td>BS</td>\n",
       "    </tr>\n",
       "  </tbody>\n",
       "</table>\n",
       "</div>"
      ],
      "text/plain": [
       "           degree_name degree_acronym\n",
       "0  Bachelor of Science             BS\n",
       "1  Bachelor Of Science             BS\n",
       "2  BACHELOR OF SCIENCE             BS\n",
       "3  bachelor of science             bs\n",
       "4  bachelor of science             BS"
      ]
     },
     "execution_count": 17,
     "metadata": {},
     "output_type": "execute_result"
    }
   ],
   "source": [
    "df_split.head()"
   ]
  },
  {
   "cell_type": "code",
   "execution_count": 20,
   "metadata": {
    "collapsed": false
   },
   "outputs": [],
   "source": [
    "df_full = df_detail.join(df_split)"
   ]
  },
  {
   "cell_type": "code",
   "execution_count": 21,
   "metadata": {
    "collapsed": false
   },
   "outputs": [],
   "source": [
    "df_full.to_csv('degree_full.csv', index=False)"
   ]
  },
  {
   "cell_type": "code",
   "execution_count": null,
   "metadata": {
    "collapsed": false
   },
   "outputs": [],
   "source": [
    "df_full_2 = pd.read_csv('degree_full.csv')"
   ]
  },
  {
   "cell_type": "code",
   "execution_count": null,
   "metadata": {
    "collapsed": false
   },
   "outputs": [],
   "source": [
    "df_full_2.shape"
   ]
  },
  {
   "cell_type": "code",
   "execution_count": null,
   "metadata": {
    "collapsed": false
   },
   "outputs": [],
   "source": [
    "df_full_2.drop(['degree_name', 'degree_acronym'], axis=1, inplace=True)"
   ]
  },
  {
   "cell_type": "code",
   "execution_count": null,
   "metadata": {
    "collapsed": false
   },
   "outputs": [],
   "source": [
    "df_full_2.sort_values('count', ascending=False).head()"
   ]
  },
  {
   "cell_type": "code",
   "execution_count": null,
   "metadata": {
    "collapsed": false
   },
   "outputs": [],
   "source": [
    "df_full_2 = df_full_2.groupby(df_full_2['degree'].str.lower()).sum().sort_values('count', ascending=False).reset_index()"
   ]
  },
  {
   "cell_type": "code",
   "execution_count": null,
   "metadata": {
    "collapsed": false
   },
   "outputs": [],
   "source": [
    "df_full_2.head()"
   ]
  },
  {
   "cell_type": "code",
   "execution_count": null,
   "metadata": {
    "collapsed": false
   },
   "outputs": [],
   "source": []
  },
  {
   "cell_type": "code",
   "execution_count": null,
   "metadata": {
    "collapsed": false
   },
   "outputs": [],
   "source": [
    "df_full_2.to_csv('degree_full_2.csv', index=False)"
   ]
  },
  {
   "cell_type": "code",
   "execution_count": null,
   "metadata": {
    "collapsed": true
   },
   "outputs": [],
   "source": []
  }
 ],
 "metadata": {
  "kernelspec": {
   "display_name": "Python 2",
   "language": "python",
   "name": "python2"
  },
  "language_info": {
   "codemirror_mode": {
    "name": "ipython",
    "version": 2
   },
   "file_extension": ".py",
   "mimetype": "text/x-python",
   "name": "python",
   "nbconvert_exporter": "python",
   "pygments_lexer": "ipython2",
   "version": "2.7.10"
  }
 },
 "nbformat": 4,
 "nbformat_minor": 2
}
